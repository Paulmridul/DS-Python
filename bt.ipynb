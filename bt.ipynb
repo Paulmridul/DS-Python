{
 "cells": [
  {
   "cell_type": "markdown",
   "metadata": {},
   "source": [
    "# Import libraries"
   ]
  },
  {
   "cell_type": "code",
   "execution_count": 33,
   "metadata": {},
   "outputs": [],
   "source": [
    "from graphviz import Digraph"
   ]
  },
  {
   "cell_type": "markdown",
   "metadata": {},
   "source": [
    "## Create Node and Binary Tree Class"
   ]
  },
  {
   "cell_type": "code",
   "execution_count": 34,
   "metadata": {},
   "outputs": [],
   "source": [
    "class node:\n",
    "    def __init__(self,data):\n",
    "        self.data = data\n",
    "        self.left =  None\n",
    "        self.right = None"
   ]
  },
  {
   "cell_type": "code",
   "execution_count": 35,
   "metadata": {},
   "outputs": [],
   "source": [
    "class binaryTree:\n",
    "    def __init__(self, node):\n",
    "        self.node = node\n"
   ]
  },
  {
   "cell_type": "markdown",
   "metadata": {},
   "source": [
    "## Tree Traversal function"
   ]
  },
  {
   "cell_type": "code",
   "execution_count": 36,
   "metadata": {},
   "outputs": [],
   "source": [
    "# A function to do inorder tree traversal \n",
    "def printInorder(root): \n",
    "  \n",
    "    if root: \n",
    "  \n",
    "        # First recur on left child \n",
    "        printInorder(root.left) \n",
    "  \n",
    "        # then print the data of node \n",
    "        print(root.data,end=\" \"), \n",
    "  \n",
    "        # now recur on right child \n",
    "        printInorder(root.right) \n",
    "  \n",
    "  \n",
    "  \n",
    "# A function to do postorder tree traversal \n",
    "def printPostorder(root): \n",
    "  \n",
    "    if root: \n",
    "  \n",
    "        # First recur on left child \n",
    "        printPostorder(root.left) \n",
    "  \n",
    "        # the recur on right child \n",
    "        printPostorder(root.right) \n",
    "  \n",
    "        # now print the data of node \n",
    "        print(root.data,end=\" \"), \n",
    "  \n",
    "  \n",
    "# A function to do preorder tree traversal \n",
    "def printPreorder(root): \n",
    "  \n",
    "    if root: \n",
    "  \n",
    "        # First print the data of node \n",
    "        print(root.data,end=\" \"), \n",
    "  \n",
    "        # Then recur on left child \n",
    "        printPreorder(root.left) \n",
    "  \n",
    "        # Finally recur on right child \n",
    "        printPreorder(root.right) \n",
    "    \n",
    "# A Function to fetch height of tree\n",
    "def height(node): \n",
    "    if node is None: \n",
    "        return 0 \n",
    "    else : \n",
    "        # Compute the height of each subtree  \n",
    "        lheight = height(node.left) \n",
    "        rheight = height(node.right) \n",
    "  \n",
    "        #Use the larger one \n",
    "        if lheight > rheight : \n",
    "            return lheight+1\n",
    "        else: \n",
    "            return rheight+1\n",
    "\n",
    "# Function to  print level order traversal of tree \n",
    "def printLevelOrder(root): \n",
    "    h = height(root) \n",
    "    for i in range(1, h+1): \n",
    "        printGivenLevel(root, i) \n",
    "\n",
    "# Print nodes at a given level \n",
    "def printGivenLevel(root , level): \n",
    "    if root is None: \n",
    "        return\n",
    "    if level == 1: \n",
    "        print(root.data,end=\" \") \n",
    "    elif level > 1 : \n",
    "        printGivenLevel(root.left , level-1) \n",
    "        printGivenLevel(root.right , level-1) "
   ]
  },
  {
   "cell_type": "markdown",
   "metadata": {},
   "source": [
    "## Create Binary Tree with Digraph Object"
   ]
  },
  {
   "cell_type": "code",
   "execution_count": 37,
   "metadata": {},
   "outputs": [],
   "source": [
    "bt = binaryTree(node(1))\n",
    "dot = Digraph()\n",
    "dot.node(str(1))\n",
    " \n",
    "bt.node.left = node(2) \n",
    "dot.node(str(2))\n",
    "dot.edge(str(1),str(2)) \n",
    "bt.node.right = node(3) \n",
    "dot.node(str(3))\n",
    "dot.edge(str(1),str(3))\n",
    "\n",
    "bt.node.left.left = node(4) \n",
    "dot.node(str(4))\n",
    "dot.edge(str(2),str(4)) \n",
    "bt.node.left.right = node(5) \n",
    "dot.node(str(5))\n",
    "dot.edge(str(2),str(5)) \n",
    "bt.node.right.left = node(6) \n",
    "dot.node(str(6))\n",
    "dot.edge(str(3),str(6))\n",
    "bt.node.right.right = node(7) \n",
    "dot.node(str(7))\n",
    "dot.edge(str(3),str(7)) \n",
    "\n",
    "bt.node.left.left.left = node(8)  \n",
    "dot.node(str(8))\n",
    "dot.edge(str(4),str(8))\n",
    "bt.node.left.left.right = node(9)\n",
    "dot.node(str(9))\n",
    "dot.edge(str(4),str(9))  \n",
    "bt.node.left.right.left = node(10)\n",
    "dot.node(str(10))\n",
    "dot.edge(str(5),str(10))  \n",
    "bt.node.left.right.right = node(11) \n",
    "dot.node(str(11))\n",
    "dot.edge(str(5),str(11))  \n",
    "bt.node.right.left.left = node(12) \n",
    "dot.node(str(12))\n",
    "dot.edge(str(6),str(12))  \n",
    "bt.node.right.left.right = node(13)\n",
    "dot.node(str(13))\n",
    "dot.edge(str(6),str(13))   \n",
    "bt.node.right.right.left = node(14) \n",
    "dot.node(str(14))\n",
    "dot.edge(str(7),str(14))  \n",
    "bt.node.right.right.right = node(15)\n",
    "dot.node(str(15))\n",
    "dot.edge(str(7),str(15))     \n"
   ]
  },
  {
   "cell_type": "markdown",
   "metadata": {},
   "source": [
    "## Visualize the graph"
   ]
  },
  {
   "cell_type": "code",
   "execution_count": 38,
   "metadata": {},
   "outputs": [
    {
     "output_type": "execute_result",
     "data": {
      "text/plain": "<graphviz.dot.Digraph at 0x6299340>",
      "image/svg+xml": "<?xml version=\"1.0\" encoding=\"UTF-8\" standalone=\"no\"?>\r\n<!DOCTYPE svg PUBLIC \"-//W3C//DTD SVG 1.1//EN\"\r\n \"http://www.w3.org/Graphics/SVG/1.1/DTD/svg11.dtd\">\r\n<!-- Generated by graphviz version 2.38.0 (20140413.2041)\r\n -->\r\n<!-- Title: %3 Pages: 1 -->\r\n<svg width=\"566pt\" height=\"260pt\"\r\n viewBox=\"0.00 0.00 566.00 260.00\" xmlns=\"http://www.w3.org/2000/svg\" xmlns:xlink=\"http://www.w3.org/1999/xlink\">\r\n<g id=\"graph0\" class=\"graph\" transform=\"scale(1 1) rotate(0) translate(4 256)\">\r\n<title>%3</title>\r\n<polygon fill=\"white\" stroke=\"none\" points=\"-4,4 -4,-256 562,-256 562,4 -4,4\"/>\r\n<!-- 1 -->\r\n<g id=\"node1\" class=\"node\"><title>1</title>\r\n<ellipse fill=\"none\" stroke=\"black\" cx=\"279\" cy=\"-234\" rx=\"27\" ry=\"18\"/>\r\n<text text-anchor=\"middle\" x=\"279\" y=\"-230.3\" font-family=\"Times New Roman,serif\" font-size=\"14.00\">1</text>\r\n</g>\r\n<!-- 2 -->\r\n<g id=\"node2\" class=\"node\"><title>2</title>\r\n<ellipse fill=\"none\" stroke=\"black\" cx=\"207\" cy=\"-162\" rx=\"27\" ry=\"18\"/>\r\n<text text-anchor=\"middle\" x=\"207\" y=\"-158.3\" font-family=\"Times New Roman,serif\" font-size=\"14.00\">2</text>\r\n</g>\r\n<!-- 1&#45;&gt;2 -->\r\n<g id=\"edge1\" class=\"edge\"><title>1&#45;&gt;2</title>\r\n<path fill=\"none\" stroke=\"black\" d=\"M264.43,-218.834C254.25,-208.938 240.476,-195.546 228.969,-184.359\"/>\r\n<polygon fill=\"black\" stroke=\"black\" points=\"231.405,-181.846 221.796,-177.385 226.526,-186.865 231.405,-181.846\"/>\r\n</g>\r\n<!-- 3 -->\r\n<g id=\"node3\" class=\"node\"><title>3</title>\r\n<ellipse fill=\"none\" stroke=\"black\" cx=\"351\" cy=\"-162\" rx=\"27\" ry=\"18\"/>\r\n<text text-anchor=\"middle\" x=\"351\" y=\"-158.3\" font-family=\"Times New Roman,serif\" font-size=\"14.00\">3</text>\r\n</g>\r\n<!-- 1&#45;&gt;3 -->\r\n<g id=\"edge2\" class=\"edge\"><title>1&#45;&gt;3</title>\r\n<path fill=\"none\" stroke=\"black\" d=\"M293.57,-218.834C303.75,-208.938 317.524,-195.546 329.031,-184.359\"/>\r\n<polygon fill=\"black\" stroke=\"black\" points=\"331.474,-186.865 336.204,-177.385 326.595,-181.846 331.474,-186.865\"/>\r\n</g>\r\n<!-- 4 -->\r\n<g id=\"node4\" class=\"node\"><title>4</title>\r\n<ellipse fill=\"none\" stroke=\"black\" cx=\"99\" cy=\"-90\" rx=\"27\" ry=\"18\"/>\r\n<text text-anchor=\"middle\" x=\"99\" y=\"-86.3\" font-family=\"Times New Roman,serif\" font-size=\"14.00\">4</text>\r\n</g>\r\n<!-- 2&#45;&gt;4 -->\r\n<g id=\"edge3\" class=\"edge\"><title>2&#45;&gt;4</title>\r\n<path fill=\"none\" stroke=\"black\" d=\"M188.188,-148.807C170.998,-137.665 145.382,-121.062 126.007,-108.504\"/>\r\n<polygon fill=\"black\" stroke=\"black\" points=\"127.892,-105.555 117.597,-103.053 124.084,-111.429 127.892,-105.555\"/>\r\n</g>\r\n<!-- 5 -->\r\n<g id=\"node5\" class=\"node\"><title>5</title>\r\n<ellipse fill=\"none\" stroke=\"black\" cx=\"207\" cy=\"-90\" rx=\"27\" ry=\"18\"/>\r\n<text text-anchor=\"middle\" x=\"207\" y=\"-86.3\" font-family=\"Times New Roman,serif\" font-size=\"14.00\">5</text>\r\n</g>\r\n<!-- 2&#45;&gt;5 -->\r\n<g id=\"edge4\" class=\"edge\"><title>2&#45;&gt;5</title>\r\n<path fill=\"none\" stroke=\"black\" d=\"M207,-143.697C207,-135.983 207,-126.712 207,-118.112\"/>\r\n<polygon fill=\"black\" stroke=\"black\" points=\"210.5,-118.104 207,-108.104 203.5,-118.104 210.5,-118.104\"/>\r\n</g>\r\n<!-- 6 -->\r\n<g id=\"node6\" class=\"node\"><title>6</title>\r\n<ellipse fill=\"none\" stroke=\"black\" cx=\"351\" cy=\"-90\" rx=\"27\" ry=\"18\"/>\r\n<text text-anchor=\"middle\" x=\"351\" y=\"-86.3\" font-family=\"Times New Roman,serif\" font-size=\"14.00\">6</text>\r\n</g>\r\n<!-- 3&#45;&gt;6 -->\r\n<g id=\"edge5\" class=\"edge\"><title>3&#45;&gt;6</title>\r\n<path fill=\"none\" stroke=\"black\" d=\"M351,-143.697C351,-135.983 351,-126.712 351,-118.112\"/>\r\n<polygon fill=\"black\" stroke=\"black\" points=\"354.5,-118.104 351,-108.104 347.5,-118.104 354.5,-118.104\"/>\r\n</g>\r\n<!-- 7 -->\r\n<g id=\"node7\" class=\"node\"><title>7</title>\r\n<ellipse fill=\"none\" stroke=\"black\" cx=\"459\" cy=\"-90\" rx=\"27\" ry=\"18\"/>\r\n<text text-anchor=\"middle\" x=\"459\" y=\"-86.3\" font-family=\"Times New Roman,serif\" font-size=\"14.00\">7</text>\r\n</g>\r\n<!-- 3&#45;&gt;7 -->\r\n<g id=\"edge6\" class=\"edge\"><title>3&#45;&gt;7</title>\r\n<path fill=\"none\" stroke=\"black\" d=\"M369.812,-148.807C387.002,-137.665 412.618,-121.062 431.993,-108.504\"/>\r\n<polygon fill=\"black\" stroke=\"black\" points=\"433.916,-111.429 440.403,-103.053 430.108,-105.555 433.916,-111.429\"/>\r\n</g>\r\n<!-- 8 -->\r\n<g id=\"node8\" class=\"node\"><title>8</title>\r\n<ellipse fill=\"none\" stroke=\"black\" cx=\"27\" cy=\"-18\" rx=\"27\" ry=\"18\"/>\r\n<text text-anchor=\"middle\" x=\"27\" y=\"-14.3\" font-family=\"Times New Roman,serif\" font-size=\"14.00\">8</text>\r\n</g>\r\n<!-- 4&#45;&gt;8 -->\r\n<g id=\"edge7\" class=\"edge\"><title>4&#45;&gt;8</title>\r\n<path fill=\"none\" stroke=\"black\" d=\"M84.4297,-74.8345C74.2501,-64.9376 60.4761,-51.5462 48.9694,-40.3591\"/>\r\n<polygon fill=\"black\" stroke=\"black\" points=\"51.4055,-37.8461 41.7957,-33.3847 46.5259,-42.865 51.4055,-37.8461\"/>\r\n</g>\r\n<!-- 9 -->\r\n<g id=\"node9\" class=\"node\"><title>9</title>\r\n<ellipse fill=\"none\" stroke=\"black\" cx=\"99\" cy=\"-18\" rx=\"27\" ry=\"18\"/>\r\n<text text-anchor=\"middle\" x=\"99\" y=\"-14.3\" font-family=\"Times New Roman,serif\" font-size=\"14.00\">9</text>\r\n</g>\r\n<!-- 4&#45;&gt;9 -->\r\n<g id=\"edge8\" class=\"edge\"><title>4&#45;&gt;9</title>\r\n<path fill=\"none\" stroke=\"black\" d=\"M99,-71.6966C99,-63.9827 99,-54.7125 99,-46.1124\"/>\r\n<polygon fill=\"black\" stroke=\"black\" points=\"102.5,-46.1043 99,-36.1043 95.5001,-46.1044 102.5,-46.1043\"/>\r\n</g>\r\n<!-- 10 -->\r\n<g id=\"node10\" class=\"node\"><title>10</title>\r\n<ellipse fill=\"none\" stroke=\"black\" cx=\"171\" cy=\"-18\" rx=\"27\" ry=\"18\"/>\r\n<text text-anchor=\"middle\" x=\"171\" y=\"-14.3\" font-family=\"Times New Roman,serif\" font-size=\"14.00\">10</text>\r\n</g>\r\n<!-- 5&#45;&gt;10 -->\r\n<g id=\"edge9\" class=\"edge\"><title>5&#45;&gt;10</title>\r\n<path fill=\"none\" stroke=\"black\" d=\"M198.65,-72.7646C194.288,-64.2831 188.853,-53.7144 183.959,-44.1974\"/>\r\n<polygon fill=\"black\" stroke=\"black\" points=\"186.99,-42.4395 179.304,-35.1473 180.765,-45.6409 186.99,-42.4395\"/>\r\n</g>\r\n<!-- 11 -->\r\n<g id=\"node11\" class=\"node\"><title>11</title>\r\n<ellipse fill=\"none\" stroke=\"black\" cx=\"243\" cy=\"-18\" rx=\"27\" ry=\"18\"/>\r\n<text text-anchor=\"middle\" x=\"243\" y=\"-14.3\" font-family=\"Times New Roman,serif\" font-size=\"14.00\">11</text>\r\n</g>\r\n<!-- 5&#45;&gt;11 -->\r\n<g id=\"edge10\" class=\"edge\"><title>5&#45;&gt;11</title>\r\n<path fill=\"none\" stroke=\"black\" d=\"M215.35,-72.7646C219.712,-64.2831 225.147,-53.7144 230.041,-44.1974\"/>\r\n<polygon fill=\"black\" stroke=\"black\" points=\"233.235,-45.6409 234.696,-35.1473 227.01,-42.4395 233.235,-45.6409\"/>\r\n</g>\r\n<!-- 12 -->\r\n<g id=\"node12\" class=\"node\"><title>12</title>\r\n<ellipse fill=\"none\" stroke=\"black\" cx=\"315\" cy=\"-18\" rx=\"27\" ry=\"18\"/>\r\n<text text-anchor=\"middle\" x=\"315\" y=\"-14.3\" font-family=\"Times New Roman,serif\" font-size=\"14.00\">12</text>\r\n</g>\r\n<!-- 6&#45;&gt;12 -->\r\n<g id=\"edge11\" class=\"edge\"><title>6&#45;&gt;12</title>\r\n<path fill=\"none\" stroke=\"black\" d=\"M342.65,-72.7646C338.288,-64.2831 332.853,-53.7144 327.959,-44.1974\"/>\r\n<polygon fill=\"black\" stroke=\"black\" points=\"330.99,-42.4395 323.304,-35.1473 324.765,-45.6409 330.99,-42.4395\"/>\r\n</g>\r\n<!-- 13 -->\r\n<g id=\"node13\" class=\"node\"><title>13</title>\r\n<ellipse fill=\"none\" stroke=\"black\" cx=\"387\" cy=\"-18\" rx=\"27\" ry=\"18\"/>\r\n<text text-anchor=\"middle\" x=\"387\" y=\"-14.3\" font-family=\"Times New Roman,serif\" font-size=\"14.00\">13</text>\r\n</g>\r\n<!-- 6&#45;&gt;13 -->\r\n<g id=\"edge12\" class=\"edge\"><title>6&#45;&gt;13</title>\r\n<path fill=\"none\" stroke=\"black\" d=\"M359.35,-72.7646C363.712,-64.2831 369.147,-53.7144 374.041,-44.1974\"/>\r\n<polygon fill=\"black\" stroke=\"black\" points=\"377.235,-45.6409 378.696,-35.1473 371.01,-42.4395 377.235,-45.6409\"/>\r\n</g>\r\n<!-- 14 -->\r\n<g id=\"node14\" class=\"node\"><title>14</title>\r\n<ellipse fill=\"none\" stroke=\"black\" cx=\"459\" cy=\"-18\" rx=\"27\" ry=\"18\"/>\r\n<text text-anchor=\"middle\" x=\"459\" y=\"-14.3\" font-family=\"Times New Roman,serif\" font-size=\"14.00\">14</text>\r\n</g>\r\n<!-- 7&#45;&gt;14 -->\r\n<g id=\"edge13\" class=\"edge\"><title>7&#45;&gt;14</title>\r\n<path fill=\"none\" stroke=\"black\" d=\"M459,-71.6966C459,-63.9827 459,-54.7125 459,-46.1124\"/>\r\n<polygon fill=\"black\" stroke=\"black\" points=\"462.5,-46.1043 459,-36.1043 455.5,-46.1044 462.5,-46.1043\"/>\r\n</g>\r\n<!-- 15 -->\r\n<g id=\"node15\" class=\"node\"><title>15</title>\r\n<ellipse fill=\"none\" stroke=\"black\" cx=\"531\" cy=\"-18\" rx=\"27\" ry=\"18\"/>\r\n<text text-anchor=\"middle\" x=\"531\" y=\"-14.3\" font-family=\"Times New Roman,serif\" font-size=\"14.00\">15</text>\r\n</g>\r\n<!-- 7&#45;&gt;15 -->\r\n<g id=\"edge14\" class=\"edge\"><title>7&#45;&gt;15</title>\r\n<path fill=\"none\" stroke=\"black\" d=\"M473.57,-74.8345C483.75,-64.9376 497.524,-51.5462 509.031,-40.3591\"/>\r\n<polygon fill=\"black\" stroke=\"black\" points=\"511.474,-42.865 516.204,-33.3847 506.595,-37.8461 511.474,-42.865\"/>\r\n</g>\r\n</g>\r\n</svg>\r\n"
     },
     "metadata": {},
     "execution_count": 38
    }
   ],
   "source": [
    "# dot = Digraph()\n",
    "# treeVisualize(bt.node,dot)\n",
    "dot "
   ]
  },
  {
   "cell_type": "markdown",
   "metadata": {},
   "source": [
    "##  Traversal\n"
   ]
  },
  {
   "cell_type": "markdown",
   "metadata": {},
   "source": [
    "### Preorder"
   ]
  },
  {
   "cell_type": "code",
   "execution_count": 39,
   "metadata": {},
   "outputs": [
    {
     "output_type": "stream",
     "name": "stdout",
     "text": "1 2 4 8 9 5 10 11 3 6 12 13 7 14 15"
    }
   ],
   "source": [
    "printPreorder(bt.node)"
   ]
  },
  {
   "cell_type": "markdown",
   "metadata": {},
   "source": [
    "### InOrder"
   ]
  },
  {
   "cell_type": "code",
   "execution_count": 40,
   "metadata": {},
   "outputs": [
    {
     "output_type": "stream",
     "name": "stdout",
     "text": "8 4 9 2 10 5 11 1 12 6 13 3 14 7 15"
    }
   ],
   "source": [
    "printInorder(bt.node)"
   ]
  },
  {
   "cell_type": "markdown",
   "metadata": {},
   "source": [
    "### Post Order"
   ]
  },
  {
   "cell_type": "code",
   "execution_count": 41,
   "metadata": {},
   "outputs": [
    {
     "output_type": "stream",
     "name": "stdout",
     "text": "8 9 4 10 11 5 2 12 13 6 14 15 7 3 1"
    }
   ],
   "source": [
    "printPostorder(bt.node)"
   ]
  },
  {
   "cell_type": "markdown",
   "metadata": {},
   "source": [
    "### Get Height of tree\n"
   ]
  },
  {
   "cell_type": "code",
   "execution_count": 42,
   "metadata": {},
   "outputs": [
    {
     "output_type": "execute_result",
     "data": {
      "text/plain": "4"
     },
     "metadata": {},
     "execution_count": 42
    }
   ],
   "source": [
    "height(bt.node)"
   ]
  },
  {
   "cell_type": "markdown",
   "metadata": {},
   "source": [
    "### Level Order Travsering"
   ]
  },
  {
   "cell_type": "code",
   "execution_count": 43,
   "metadata": {},
   "outputs": [
    {
     "output_type": "stream",
     "name": "stdout",
     "text": "1 2 3 4 5 6 7 8 9 10 11 12 13 14 15"
    }
   ],
   "source": [
    "printLevelOrder(bt.node)"
   ]
  }
 ],
 "metadata": {
  "language_info": {
   "codemirror_mode": {
    "name": "ipython",
    "version": 3
   },
   "file_extension": ".py",
   "mimetype": "text/x-python",
   "name": "python",
   "nbconvert_exporter": "python",
   "pygments_lexer": "ipython3",
   "version": "3.8.3-final"
  },
  "orig_nbformat": 2,
  "kernelspec": {
   "name": "python38332bit2ebbe90955724fc6afcbb5d55b7b80ed",
   "display_name": "Python 3.8.3 32-bit"
  }
 },
 "nbformat": 4,
 "nbformat_minor": 2
}